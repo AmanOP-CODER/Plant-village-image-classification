{
  "metadata": {
    "kaggle": {
      "accelerator": "gpu",
      "dataSources": [
        {
          "sourceId": 658267,
          "sourceType": "datasetVersion",
          "datasetId": 277323
        }
      ],
      "dockerImageVersionId": 30787,
      "isInternetEnabled": true,
      "language": "python",
      "sourceType": "notebook",
      "isGpuEnabled": true
    },
    "kernelspec": {
      "display_name": "Python 3",
      "language": "python",
      "name": "python3"
    },
    "language_info": {
      "codemirror_mode": {
        "name": "ipython",
        "version": 3
      },
      "file_extension": ".py",
      "mimetype": "text/x-python",
      "name": "python",
      "nbconvert_exporter": "python",
      "pygments_lexer": "ipython3",
      "version": "3.10.14"
    },
    "papermill": {
      "default_parameters": {},
      "duration": 6394.362408,
      "end_time": "2024-10-08T00:29:15.459614",
      "environment_variables": {},
      "exception": null,
      "input_path": "__notebook__.ipynb",
      "output_path": "__notebook__.ipynb",
      "parameters": {},
      "start_time": "2024-10-07T22:42:41.097206",
      "version": "2.4.0"
    },
    "colab": {
      "name": "Plant Village Disease Classification Using ÇNN ",
      "provenance": [],
      "include_colab_link": true
    }
  },
  "nbformat_minor": 0,
  "nbformat": 4,
  "cells": [
    {
      "cell_type": "markdown",
      "metadata": {
        "id": "view-in-github",
        "colab_type": "text"
      },
      "source": [
        "<a href=\"https://colab.research.google.com/github/AmanOP-CODER/Plant-village-image-classification/blob/main/Plant_Village_Disease_Classification_Using_%C3%87NN.ipynb\" target=\"_parent\"><img src=\"https://colab.research.google.com/assets/colab-badge.svg\" alt=\"Open In Colab\"/></a>"
      ]
    },
    {
      "source": [
        "\n",
        "import kagglehub\n",
        "abdallahalidev_plantvillage_dataset_path = kagglehub.dataset_download('abdallahalidev/plantvillage-dataset')\n",
        "\n",
        "print('Data source import complete.')\n"
      ],
      "metadata": {
        "id": "OsBC4egjeTJZ"
      },
      "cell_type": "code",
      "outputs": [],
      "execution_count": null
    },
    {
      "cell_type": "markdown",
      "source": [
        "# <p><center style=\"font-family:newtimeroman;font-size:180%;\"> Plant Village Disease Classification </center></p>\n",
        "### Table of contents:\n",
        "\n",
        "* [Import Libraries](#1)\n",
        "* [Read Data](#2)\n",
        "* [Visualization Of Dataset](#3)\n",
        "* [Data Augmentation](#4)\n",
        "* [Train CNN Model](#5)\n",
        "* [Evaluate The Model](#6)"
      ],
      "metadata": {
        "papermill": {
          "duration": 0.008561,
          "end_time": "2024-10-07T22:42:44.337059",
          "exception": false,
          "start_time": "2024-10-07T22:42:44.328498",
          "status": "completed"
        },
        "tags": [],
        "id": "6Kq_h5EfeTJd"
      }
    },
    {
      "cell_type": "markdown",
      "source": [
        "**<a id=\"1\"></a>\n",
        "# <p style=\"background-image: url(https://i.postimg.cc/K87ByXmr/stage5.jpg);font-family:camtasia;font-size:120%;color:white;text-align:center;border-radius:15px 50px; padding:7px\">Import Libraries </p>\n",
        "<a class=\"btn\" href=\"#home\">Tabel of Contents</a>"
      ],
      "metadata": {
        "papermill": {
          "duration": 0.00749,
          "end_time": "2024-10-07T22:42:44.352509",
          "exception": false,
          "start_time": "2024-10-07T22:42:44.345019",
          "status": "completed"
        },
        "tags": [],
        "id": "7T3_AFpMeTJe"
      }
    },
    {
      "cell_type": "code",
      "source": [
        "import os\n",
        "import cv2\n",
        "import pandas as pd\n",
        "import numpy as np\n",
        "import matplotlib.pyplot as plt\n",
        "import seaborn as sns\n",
        "from sklearn.model_selection import train_test_split\n",
        "from sklearn.preprocessing import LabelEncoder\n",
        "from tensorflow.keras.preprocessing.image import ImageDataGenerator\n",
        "import keras\n",
        "from keras.callbacks import EarlyStopping,ModelCheckpoint\n",
        "import tensorflow as tf\n",
        "from sklearn.metrics import confusion_matrix\n",
        "from sklearn.metrics import classification_report\n",
        "from tqdm import tqdm"
      ],
      "metadata": {
        "papermill": {
          "duration": 16.979201,
          "end_time": "2024-10-07T22:43:01.339836",
          "exception": false,
          "start_time": "2024-10-07T22:42:44.360635",
          "status": "completed"
        },
        "tags": [],
        "execution": {
          "iopub.status.busy": "2024-10-08T19:49:48.741034Z",
          "iopub.execute_input": "2024-10-08T19:49:48.74142Z",
          "iopub.status.idle": "2024-10-08T19:49:48.747702Z",
          "shell.execute_reply.started": "2024-10-08T19:49:48.741384Z",
          "shell.execute_reply": "2024-10-08T19:49:48.746668Z"
        },
        "trusted": true,
        "id": "ysghsjeEeTJe"
      },
      "execution_count": null,
      "outputs": []
    },
    {
      "cell_type": "markdown",
      "source": [
        "**<a id=\"2\"></a>\n",
        "# <p style=\"background-image: url(https://i.postimg.cc/K87ByXmr/stage5.jpg);font-family:camtasia;font-size:120%;color:white;text-align:center;border-radius:15px 50px; padding:7px\">Read Data </p>\n",
        "<a class=\"btn\" href=\"#home\">Tabel of Contents</a>"
      ],
      "metadata": {
        "papermill": {
          "duration": 0.008733,
          "end_time": "2024-10-07T22:43:01.356714",
          "exception": false,
          "start_time": "2024-10-07T22:43:01.347981",
          "status": "completed"
        },
        "tags": [],
        "id": "8ybONbC9eTJe"
      }
    },
    {
      "cell_type": "code",
      "source": [
        "def data(dataset_path):\n",
        "    images = []\n",
        "    labels = []\n",
        "    for subfolder in tqdm(os.listdir(dataset_path)):\n",
        "        subfolder_path = os.path.join(dataset_path, subfolder)\n",
        "        for image_filename in os.listdir(subfolder_path):\n",
        "            image_path = os.path.join(subfolder_path, image_filename)\n",
        "            images.append(image_path)\n",
        "            labels.append(subfolder)\n",
        "    df = pd.DataFrame({'image': images, 'label': labels})\n",
        "    return df"
      ],
      "metadata": {
        "papermill": {
          "duration": 0.020198,
          "end_time": "2024-10-07T22:43:01.384817",
          "exception": false,
          "start_time": "2024-10-07T22:43:01.364619",
          "status": "completed"
        },
        "tags": [],
        "execution": {
          "iopub.status.busy": "2024-10-08T19:49:48.75179Z",
          "iopub.execute_input": "2024-10-08T19:49:48.75214Z",
          "iopub.status.idle": "2024-10-08T19:49:48.759965Z",
          "shell.execute_reply.started": "2024-10-08T19:49:48.752107Z",
          "shell.execute_reply": "2024-10-08T19:49:48.759161Z"
        },
        "trusted": true,
        "id": "PLmY4Q4YeTJe"
      },
      "execution_count": null,
      "outputs": []
    },
    {
      "cell_type": "code",
      "source": [
        "#train\n",
        "train = data('/kaggle/input/plantvillage-dataset/color')\n",
        "train.head()"
      ],
      "metadata": {
        "papermill": {
          "duration": 9.462075,
          "end_time": "2024-10-07T22:43:10.855036",
          "exception": false,
          "start_time": "2024-10-07T22:43:01.392961",
          "status": "completed"
        },
        "tags": [],
        "execution": {
          "iopub.status.busy": "2024-10-08T19:49:48.764933Z",
          "iopub.execute_input": "2024-10-08T19:49:48.765288Z",
          "iopub.status.idle": "2024-10-08T19:49:48.941237Z",
          "shell.execute_reply.started": "2024-10-08T19:49:48.765255Z",
          "shell.execute_reply": "2024-10-08T19:49:48.940239Z"
        },
        "trusted": true,
        "id": "ebJwhf-WeTJf"
      },
      "execution_count": null,
      "outputs": []
    },
    {
      "cell_type": "code",
      "source": [
        "train.shape"
      ],
      "metadata": {
        "papermill": {
          "duration": 0.023638,
          "end_time": "2024-10-07T22:43:10.890089",
          "exception": false,
          "start_time": "2024-10-07T22:43:10.866451",
          "status": "completed"
        },
        "tags": [],
        "execution": {
          "iopub.status.busy": "2024-10-08T19:49:48.943165Z",
          "iopub.execute_input": "2024-10-08T19:49:48.943813Z",
          "iopub.status.idle": "2024-10-08T19:49:48.949572Z",
          "shell.execute_reply.started": "2024-10-08T19:49:48.943766Z",
          "shell.execute_reply": "2024-10-08T19:49:48.948652Z"
        },
        "trusted": true,
        "id": "L4WMpRJAeTJf"
      },
      "execution_count": null,
      "outputs": []
    },
    {
      "cell_type": "markdown",
      "source": [
        "**<a id=\"3\"></a>\n",
        "# <p style=\"background-image: url(https://i.postimg.cc/K87ByXmr/stage5.jpg);font-family:camtasia;font-size:120%;color:white;text-align:center;border-radius:15px 50px; padding:7px\">Visualization of Dataset </p>\n",
        "<a class=\"btn\" href=\"#home\">Tabel of Contents</a>"
      ],
      "metadata": {
        "papermill": {
          "duration": 0.011236,
          "end_time": "2024-10-07T22:43:10.913053",
          "exception": false,
          "start_time": "2024-10-07T22:43:10.901817",
          "status": "completed"
        },
        "tags": [],
        "id": "E-QHXl_SeTJf"
      }
    },
    {
      "cell_type": "code",
      "source": [
        "train.label.value_counts().to_frame()"
      ],
      "metadata": {
        "papermill": {
          "duration": 0.043448,
          "end_time": "2024-10-07T22:43:10.968479",
          "exception": false,
          "start_time": "2024-10-07T22:43:10.925031",
          "status": "completed"
        },
        "tags": [],
        "execution": {
          "iopub.status.busy": "2024-10-08T19:49:48.950771Z",
          "iopub.execute_input": "2024-10-08T19:49:48.951059Z",
          "iopub.status.idle": "2024-10-08T19:49:48.972546Z",
          "shell.execute_reply.started": "2024-10-08T19:49:48.951027Z",
          "shell.execute_reply": "2024-10-08T19:49:48.97159Z"
        },
        "trusted": true,
        "id": "5xVpkugzeTJf"
      },
      "execution_count": null,
      "outputs": []
    },
    {
      "cell_type": "code",
      "source": [
        "plt.style.use('dark_background')\n",
        "plt.figure(figsize=(50,80))\n",
        "for n,i in enumerate(np.random.randint(0,len(train),50)):\n",
        "    plt.subplot(10,5,n+1)\n",
        "    img = cv2.imread(train.image[i])\n",
        "    img = cv2.cvtColor(img,cv2.COLOR_BGR2RGB)\n",
        "    plt.imshow(img)\n",
        "    plt.axis('off')\n",
        "    text = f'{train.label[i]}\\n'\n",
        "    plt.title(text,fontsize=25)"
      ],
      "metadata": {
        "papermill": {
          "duration": 10.891343,
          "end_time": "2024-10-07T22:43:21.87302",
          "exception": false,
          "start_time": "2024-10-07T22:43:10.981677",
          "status": "completed"
        },
        "tags": [],
        "execution": {
          "iopub.status.busy": "2024-10-08T19:49:48.974639Z",
          "iopub.execute_input": "2024-10-08T19:49:48.974973Z",
          "iopub.status.idle": "2024-10-08T19:50:03.49141Z",
          "shell.execute_reply.started": "2024-10-08T19:49:48.974925Z",
          "shell.execute_reply": "2024-10-08T19:50:03.489447Z"
        },
        "trusted": true,
        "id": "joxCTM4jeTJf"
      },
      "execution_count": null,
      "outputs": []
    },
    {
      "cell_type": "markdown",
      "source": [
        "<a id=\"4\"></a>\n",
        "# <p style=\"background-image: url(https://i.postimg.cc/K87ByXmr/stage5.jpg);font-family:camtasia;font-size:120%;color:white;text-align:center;border-radius:15px 50px; padding:7px\"> Data Augmentation </p>\n",
        "<a class=\"btn\" href=\"#home\">Tabel of Contents</a>"
      ],
      "metadata": {
        "papermill": {
          "duration": 0.185706,
          "end_time": "2024-10-07T22:43:22.247712",
          "exception": false,
          "start_time": "2024-10-07T22:43:22.062006",
          "status": "completed"
        },
        "tags": [],
        "id": "5zRoo-tneTJg"
      }
    },
    {
      "cell_type": "code",
      "source": [
        "X_train, X_test1, y_train, y_test1 = train_test_split(train['image'], train['label'], test_size=0.2, random_state=42,shuffle=True,stratify=train['label'])\n",
        "X_val, X_test, y_val, y_test = train_test_split(X_test1,y_test1, test_size=0.5, random_state=42,shuffle=True,stratify=y_test1)\n",
        "df_train = pd.DataFrame({'image': X_train, 'label': y_train})\n",
        "df_test = pd.DataFrame({'image': X_test, 'label': y_test})\n",
        "df_val = pd.DataFrame({'image': X_val, 'label': y_val})"
      ],
      "metadata": {
        "papermill": {
          "duration": 0.305828,
          "end_time": "2024-10-07T22:43:22.727892",
          "exception": false,
          "start_time": "2024-10-07T22:43:22.422064",
          "status": "completed"
        },
        "tags": [],
        "execution": {
          "iopub.status.busy": "2024-10-08T19:50:03.493911Z",
          "iopub.execute_input": "2024-10-08T19:50:03.49522Z",
          "iopub.status.idle": "2024-10-08T19:50:03.611286Z",
          "shell.execute_reply.started": "2024-10-08T19:50:03.495127Z",
          "shell.execute_reply": "2024-10-08T19:50:03.610307Z"
        },
        "trusted": true,
        "id": "DC4y1_FJeTJg"
      },
      "execution_count": null,
      "outputs": []
    },
    {
      "cell_type": "code",
      "source": [
        "image_size = (224, 224)\n",
        "batch_size = 32\n",
        "datagen = ImageDataGenerator(\n",
        "    rescale=1./255\n",
        ")\n",
        "train_datagen = ImageDataGenerator(\n",
        "    rescale=1./255,\n",
        "    #rotation_range=20,\n",
        "    #width_shift_range=0.2,\n",
        "    #height_shift_range=0.2,\n",
        "    #shear_range=0.2,\n",
        "    #zoom_range=0.2,\n",
        "    horizontal_flip=True,\n",
        "    #fill_mode='nearest'\n",
        ")\n",
        "train_generator = train_datagen.flow_from_dataframe(\n",
        "    df_train,\n",
        "    x_col='image',\n",
        "    y_col='label',\n",
        "    target_size=image_size,\n",
        "    batch_size=batch_size,\n",
        "    shuffle=True\n",
        ")\n",
        "test_generator = datagen.flow_from_dataframe(\n",
        "    df_test,\n",
        "    x_col='image',\n",
        "    y_col='label',\n",
        "    target_size=image_size,\n",
        "    batch_size=batch_size,\n",
        "    shuffle=False\n",
        ")\n",
        "val_generator = datagen.flow_from_dataframe(\n",
        "    df_val,\n",
        "    x_col='image',\n",
        "    y_col='label',\n",
        "    target_size=image_size,\n",
        "    batch_size=batch_size,\n",
        "    shuffle=False\n",
        ")"
      ],
      "metadata": {
        "papermill": {
          "duration": 103.504647,
          "end_time": "2024-10-07T22:45:06.407394",
          "exception": false,
          "start_time": "2024-10-07T22:43:22.902747",
          "status": "completed"
        },
        "tags": [],
        "execution": {
          "iopub.status.busy": "2024-10-08T19:50:03.612726Z",
          "iopub.execute_input": "2024-10-08T19:50:03.613059Z",
          "iopub.status.idle": "2024-10-08T19:50:28.550075Z",
          "shell.execute_reply.started": "2024-10-08T19:50:03.613023Z",
          "shell.execute_reply": "2024-10-08T19:50:28.549157Z"
        },
        "trusted": true,
        "id": "UXTJ1f-teTJg"
      },
      "execution_count": null,
      "outputs": []
    },
    {
      "cell_type": "code",
      "source": [
        "class_ = test_generator.class_indices.keys()\n",
        "class_ = list(class_)"
      ],
      "metadata": {
        "execution": {
          "iopub.status.busy": "2024-10-08T19:50:28.551249Z",
          "iopub.execute_input": "2024-10-08T19:50:28.551608Z",
          "iopub.status.idle": "2024-10-08T19:50:28.556241Z",
          "shell.execute_reply.started": "2024-10-08T19:50:28.551568Z",
          "shell.execute_reply": "2024-10-08T19:50:28.555426Z"
        },
        "trusted": true,
        "id": "mZm8DCMTeTJg"
      },
      "execution_count": null,
      "outputs": []
    },
    {
      "cell_type": "markdown",
      "source": [
        "<a id=\"5\"></a>\n",
        "# <p style=\"background-image: url(https://i.postimg.cc/K87ByXmr/stage5.jpg);font-family:camtasia;font-size:120%;color:white;text-align:center;border-radius:15px 50px; padding:7px\"> Modeling </p>\n",
        "<a class=\"btn\" href=\"#home\">Tabel of Contents</a>"
      ],
      "metadata": {
        "papermill": {
          "duration": 0.171231,
          "end_time": "2024-10-07T22:45:07.101375",
          "exception": false,
          "start_time": "2024-10-07T22:45:06.930144",
          "status": "completed"
        },
        "tags": [],
        "id": "E4ULPyIQeTJg"
      }
    },
    {
      "cell_type": "code",
      "source": [
        "model = keras.models.Sequential([\n",
        "    keras.layers.Conv2D(32, kernel_size = (3,3), activation = 'relu', input_shape = (224,224,3)),\n",
        "    keras.layers.MaxPooling2D(2,2),\n",
        "\n",
        "    keras.layers.Conv2D(64, kernel_size = (3,3), activation = 'relu'),\n",
        "    keras.layers.MaxPooling2D(2,2),\n",
        "\n",
        "    keras.layers.Conv2D(64, kernel_size = (3,3), activation = 'relu'),\n",
        "    keras.layers.MaxPooling2D(2,2),\n",
        "\n",
        "    keras.layers.Conv2D(64, kernel_size = (3,3), activation = 'relu'),\n",
        "    keras.layers.MaxPooling2D(2,2),\n",
        "\n",
        "    keras.layers.Conv2D(64, kernel_size = (3,3), activation = 'relu'),\n",
        "    keras.layers.MaxPooling2D(2,2),\n",
        "\n",
        "    keras.layers.Conv2D(64, kernel_size = (3,3), activation = 'relu'),\n",
        "    keras.layers.MaxPooling2D(2,2),\n",
        "\n",
        "    keras.layers.Flatten(),\n",
        "\n",
        "    keras.layers.Dense(64, activation='relu'),\n",
        "\n",
        "    keras.layers.Dense(38, activation='softmax'),\n",
        "\n",
        "])\n",
        "model.summary()"
      ],
      "metadata": {
        "papermill": {
          "duration": 1.04868,
          "end_time": "2024-10-07T22:45:08.321235",
          "exception": false,
          "start_time": "2024-10-07T22:45:07.272555",
          "status": "completed"
        },
        "tags": [],
        "execution": {
          "iopub.status.busy": "2024-10-08T19:50:28.557514Z",
          "iopub.execute_input": "2024-10-08T19:50:28.557853Z",
          "iopub.status.idle": "2024-10-08T19:50:28.66057Z",
          "shell.execute_reply.started": "2024-10-08T19:50:28.557821Z",
          "shell.execute_reply": "2024-10-08T19:50:28.659694Z"
        },
        "trusted": true,
        "id": "8Y0tm6IaeTJg"
      },
      "execution_count": null,
      "outputs": []
    },
    {
      "cell_type": "code",
      "source": [
        "checkpoint_cb =ModelCheckpoint(\"my_keras_model.keras\", save_best_only=True)\n",
        "early_stopping_cb =EarlyStopping(patience=5, restore_best_weights=True)\n",
        "model.compile(optimizer ='adam', loss='categorical_crossentropy', metrics=['accuracy',keras.metrics.AUC()])\n",
        "hist=model.fit(train_generator,epochs=20,validation_data=val_generator,callbacks=[checkpoint_cb,early_stopping_cb])"
      ],
      "metadata": {
        "papermill": {
          "duration": 6145.562366,
          "end_time": "2024-10-08T00:27:34.064479",
          "exception": false,
          "start_time": "2024-10-07T22:45:08.502113",
          "status": "completed"
        },
        "tags": [],
        "execution": {
          "iopub.status.busy": "2024-10-08T19:50:28.661706Z",
          "iopub.execute_input": "2024-10-08T19:50:28.661977Z"
        },
        "trusted": true,
        "id": "_eSEs8BOeTJg"
      },
      "execution_count": null,
      "outputs": []
    },
    {
      "cell_type": "markdown",
      "source": [
        "<a id=\"6\"></a>\n",
        "# <p style=\"background-image: url(https://i.postimg.cc/K87ByXmr/stage5.jpg);font-family:camtasia;font-size:120%;color:white;text-align:center;border-radius:15px 50px; padding:7px\"> Evaluate The Model  </p>\n",
        "<a class=\"btn\" href=\"#home\">Tabel of Contents</a>"
      ],
      "metadata": {
        "papermill": {
          "duration": 1.398476,
          "end_time": "2024-10-08T00:27:36.963989",
          "exception": false,
          "start_time": "2024-10-08T00:27:35.565513",
          "status": "completed"
        },
        "tags": [],
        "id": "0x6a9CLGeTJg"
      }
    },
    {
      "cell_type": "code",
      "source": [
        "hist_=pd.DataFrame(hist.history)\n",
        "hist_"
      ],
      "metadata": {
        "papermill": {
          "duration": 1.435608,
          "end_time": "2024-10-08T00:27:39.85314",
          "exception": false,
          "start_time": "2024-10-08T00:27:38.417532",
          "status": "completed"
        },
        "tags": [],
        "trusted": true,
        "id": "7bGIdkd0eTJg"
      },
      "execution_count": null,
      "outputs": []
    },
    {
      "cell_type": "code",
      "source": [
        "plt.figure(figsize=(25,10))\n",
        "plt.subplot(1,3,1)\n",
        "plt.plot(hist_['loss'],'b-o',label='Train_Loss')\n",
        "plt.plot(hist_['val_loss'],'r-o',label='Validation_Loss')\n",
        "plt.title('Train_Loss & Validation_Loss',fontsize=20)\n",
        "plt.legend()\n",
        "plt.subplot(1,3,2)\n",
        "plt.plot(hist_['accuracy'],'b-o',label='Train_Accuracy')\n",
        "plt.plot(hist_['val_accuracy'],'r-o',label='Validation_Accuracy')\n",
        "plt.title('Train_Accuracy & Validation_Accuracy',fontsize=20)\n",
        "plt.legend()\n",
        "plt.subplot(1,3,3)\n",
        "plt.plot(hist_.iloc[:,1],'b-o',label='Train_auc')\n",
        "plt.plot(hist_.iloc[:,4],'r-o',label='Validation_auc')\n",
        "plt.title('Train_AUC & Validation_AUC',fontsize=20)\n",
        "plt.legend()\n",
        "plt.show()"
      ],
      "metadata": {
        "papermill": {
          "duration": 2.221078,
          "end_time": "2024-10-08T00:27:43.507113",
          "exception": false,
          "start_time": "2024-10-08T00:27:41.286035",
          "status": "completed"
        },
        "tags": [],
        "trusted": true,
        "id": "nYuTLkKreTJg"
      },
      "execution_count": null,
      "outputs": []
    },
    {
      "cell_type": "code",
      "source": [
        "score, acc,auc = model.evaluate(test_generator)\n",
        "print('Test Loss =', score)\n",
        "print('Test Accuracy =', acc)\n",
        "print('Test AUC =', auc)"
      ],
      "metadata": {
        "papermill": {
          "duration": 45.986555,
          "end_time": "2024-10-08T00:28:30.968847",
          "exception": false,
          "start_time": "2024-10-08T00:27:44.982292",
          "status": "completed"
        },
        "tags": [],
        "trusted": true,
        "id": "HXQx3En7eTJg"
      },
      "execution_count": null,
      "outputs": []
    },
    {
      "cell_type": "code",
      "source": [
        "# Get true labels\n",
        "y_test = test_generator.classes\n",
        "# Predict probabilities for each class\n",
        "predictions = model.predict(test_generator)\n",
        "# Convert predicted probabilities to class labels (choose the class with the highest probability)\n",
        "y_pred = np.argmax(predictions, axis=1)\n",
        "# Flatten both arrays just in case\n",
        "y_test = np.ravel(y_test)\n",
        "y_pred = np.ravel(y_pred)\n",
        "# Create a DataFrame to compare actual vs predicted labels\n",
        "df = pd.DataFrame({'Actual': y_test, 'Prediction': y_pred})\n",
        "# Display the DataFrame\n",
        "df.head()  # Show the first few rows of the comparison"
      ],
      "metadata": {
        "papermill": {
          "duration": 14.57814,
          "end_time": "2024-10-08T00:28:47.050031",
          "exception": false,
          "start_time": "2024-10-08T00:28:32.471891",
          "status": "completed"
        },
        "tags": [],
        "trusted": true,
        "id": "hdwUXinjeTJh"
      },
      "execution_count": null,
      "outputs": []
    },
    {
      "cell_type": "code",
      "source": [
        "batch = next(test_generator)\n",
        "images= batch[0]\n",
        "plt.figure(figsize=(50,80))\n",
        "for n in range(32):\n",
        "    plt.subplot(8,4,n+1)\n",
        "    plt.imshow(images[n])\n",
        "    plt.axis('off')\n",
        "    text = f'Actual : {class_[int(y_test[n])]}\\npred : {class_[int(y_pred[n])]}\\n'\n",
        "    plt.title(text,fontsize=25)"
      ],
      "metadata": {
        "papermill": {
          "duration": 10.513034,
          "end_time": "2024-10-08T00:28:59.011092",
          "exception": false,
          "start_time": "2024-10-08T00:28:48.498058",
          "status": "completed"
        },
        "tags": [],
        "trusted": true,
        "id": "ksdjwjpmeTJh"
      },
      "execution_count": null,
      "outputs": []
    },
    {
      "cell_type": "code",
      "source": [
        "CM = confusion_matrix(y_test,y_pred)\n",
        "plt.figure(figsize=(15,25))\n",
        "sns.heatmap(CM,fmt='g',center = True,cbar=False,annot=True,cmap='Set2',xticklabels=class_,yticklabels=class_)\n",
        "CM"
      ],
      "metadata": {
        "papermill": {
          "duration": 6.588733,
          "end_time": "2024-10-08T00:29:07.214042",
          "exception": false,
          "start_time": "2024-10-08T00:29:00.625309",
          "status": "completed"
        },
        "tags": [],
        "trusted": true,
        "id": "3A8SjjAueTJh"
      },
      "execution_count": null,
      "outputs": []
    },
    {
      "cell_type": "code",
      "source": [
        "ClassificationReport = classification_report(y_test,y_pred,target_names=class_)\n",
        "print('Classification Report is : ', ClassificationReport)"
      ],
      "metadata": {
        "papermill": {
          "duration": 1.632629,
          "end_time": "2024-10-08T00:29:10.513723",
          "exception": false,
          "start_time": "2024-10-08T00:29:08.881094",
          "status": "completed"
        },
        "tags": [],
        "trusted": true,
        "id": "0h4LywgxeTJh"
      },
      "execution_count": null,
      "outputs": []
    }
  ]
}